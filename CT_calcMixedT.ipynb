{
 "cells": [
  {
   "cell_type": "code",
   "execution_count": 1,
   "metadata": {
    "metadata": {}
   },
   "outputs": [],
   "source": [
    "import cantera as ct"
   ]
  },
  {
   "cell_type": "code",
   "execution_count": 62,
   "metadata": {
    "metadata": {}
   },
   "outputs": [],
   "source": [
    "X_O2 = 0.21 # Concentration of O2 in Oxidizer\n",
    "T_ox = 1400 # Temperature of Oxidizer"
   ]
  },
  {
   "cell_type": "code",
   "execution_count": 68,
   "metadata": {
    "metadata": {}
   },
   "outputs": [
    {
     "name": "stdout",
     "output_type": "stream",
     "text": [
      "\n",
      "  gas:\n",
      "\n",
      "       temperature   1100.4 K\n",
      "          pressure   1.0133e+05 Pa\n",
      "           density   0.29089 kg/m^3\n",
      "  mean mol. weight   26.265 kg/kmol\n",
      "   phase of matter   gas\n",
      "\n",
      "                          1 kg             1 kmol     \n",
      "                     ---------------   ---------------\n",
      "          enthalpy        6.7202e+05        1.7651e+07  J\n",
      "   internal energy        3.2369e+05        8.5017e+06  J\n",
      "           entropy            9345.7        2.4547e+05  J/K\n",
      "    Gibbs function       -9.6117e+06       -2.5245e+08  J\n",
      " heat capacity c_p            1471.5             38649  J/K\n",
      " heat capacity c_v              1155             30335  J/K\n",
      "\n",
      "                      mass frac. Y      mole frac. X     chem. pot. / RT\n",
      "                     ---------------   ---------------   ---------------\n",
      "                N2           0.65828           0.61719           -25.597\n",
      "                O2           0.19987           0.16406           -28.641\n",
      "               NH3           0.14184           0.21875           -32.441\n",
      "     [  +30 minor]                 0                 0  \n",
      "\n"
     ]
    }
   ],
   "source": [
    "gas = ct.Solution('yaml/NH3_Tamaoki.yaml')\n",
    "# gas = ct.Solution('gri30.yaml')\n",
    "\n",
    "# Stream A (air)\n",
    "A = ct.Quantity(gas, constant='HP')\n",
    "A.TPX = T_ox, ct.one_atm, f'O2:{X_O2}, N2:{1-X_O2}'\n",
    "\n",
    "# Stream B (methane)\n",
    "B = ct.Quantity(gas, constant='HP')\n",
    "B.TPX = 300.0, ct.one_atm, 'NH3:1'\n",
    "\n",
    "# Set the molar flow rates corresponding to stoichiometric reaction,\n",
    "# 4 NH3 + 3 O2 -> 2 N2 + 6 H2O \n",
    "A.moles = 1\n",
    "nO2 = A.X[A.species_index('O2')]\n",
    "B.moles = nO2 * 4.0/3.0\n",
    "\n",
    "# Compute the mixed state\n",
    "M = A + B\n",
    "print(M.report())"
   ]
  },
  {
   "cell_type": "code",
   "execution_count": 69,
   "metadata": {
    "metadata": {}
   },
   "outputs": [
    {
     "name": "stdout",
     "output_type": "stream",
     "text": [
      "Mixed temperature is 1100.3601701509708\n"
     ]
    }
   ],
   "source": [
    "print(f'Mixed temperature is {M.T}')"
   ]
  },
  {
   "cell_type": "code",
   "execution_count": null,
   "metadata": {},
   "outputs": [],
   "source": []
  }
 ],
 "metadata": {
  "kernelspec": {
   "display_name": "pandas",
   "language": "python",
   "name": "python3"
  },
  "language_info": {
   "codemirror_mode": {
    "name": "ipython",
    "version": 3
   },
   "file_extension": ".py",
   "mimetype": "text/x-python",
   "name": "python",
   "nbconvert_exporter": "python",
   "pygments_lexer": "ipython3",
   "version": "3.11.8"
  }
 },
 "nbformat": 4,
 "nbformat_minor": 2
}
